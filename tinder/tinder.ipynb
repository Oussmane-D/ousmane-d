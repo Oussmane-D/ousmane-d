{
 "cells": [
  {
   "cell_type": "markdown",
   "id": "04ade36c",
   "metadata": {},
   "source": [
    "# Projet 🚧\n",
    "L'équipe marketing a besoin d'aide sur un nouveau projet. Ils constatent une diminution du nombre de matchs et tentent de trouver un moyen de comprendre ce qui motive les gens à s'intéresser les uns aux autres .\n",
    "\n",
    "Ils ont décidé de mener une expérience de speed dating avec des personnes qui devaient donner à Tinder de nombreuses informations sur elles-mêmes qui pourraient finalement se refléter sur leur profil de rencontre sur l'application.\n",
    "\n",
    "Tinder a ensuite rassemblé les données de cette expérience. Chaque ligne de l'ensemble de données représente un speed date entre deux personnes et indique si chacune d'elles a secrètement accepté d'avoir un deuxième rendez-vous avec l'autre personne."
   ]
  },
  {
   "cell_type": "code",
   "execution_count": 1,
   "id": "7dcd9b42",
   "metadata": {},
   "outputs": [],
   "source": [
    "import pandas as pd \n",
    "import numpy as np\n",
    "import seaborn as sns\n",
    "import matplotlib.pyplot as plt\n",
    "\n"
   ]
  },
  {
   "cell_type": "code",
   "execution_count": 2,
   "id": "65888d32",
   "metadata": {},
   "outputs": [
    {
     "data": {
      "text/html": [
       "<div>\n",
       "<style scoped>\n",
       "    .dataframe tbody tr th:only-of-type {\n",
       "        vertical-align: middle;\n",
       "    }\n",
       "\n",
       "    .dataframe tbody tr th {\n",
       "        vertical-align: top;\n",
       "    }\n",
       "\n",
       "    .dataframe thead th {\n",
       "        text-align: right;\n",
       "    }\n",
       "</style>\n",
       "<table border=\"1\" class=\"dataframe\">\n",
       "  <thead>\n",
       "    <tr style=\"text-align: right;\">\n",
       "      <th></th>\n",
       "      <th>iid</th>\n",
       "      <th>id</th>\n",
       "      <th>gender</th>\n",
       "      <th>idg</th>\n",
       "      <th>condtn</th>\n",
       "      <th>wave</th>\n",
       "      <th>round</th>\n",
       "      <th>position</th>\n",
       "      <th>positin1</th>\n",
       "      <th>order</th>\n",
       "      <th>...</th>\n",
       "      <th>attr3_3</th>\n",
       "      <th>sinc3_3</th>\n",
       "      <th>intel3_3</th>\n",
       "      <th>fun3_3</th>\n",
       "      <th>amb3_3</th>\n",
       "      <th>attr5_3</th>\n",
       "      <th>sinc5_3</th>\n",
       "      <th>intel5_3</th>\n",
       "      <th>fun5_3</th>\n",
       "      <th>amb5_3</th>\n",
       "    </tr>\n",
       "  </thead>\n",
       "  <tbody>\n",
       "    <tr>\n",
       "      <th>0</th>\n",
       "      <td>1</td>\n",
       "      <td>1.0</td>\n",
       "      <td>0</td>\n",
       "      <td>1</td>\n",
       "      <td>1</td>\n",
       "      <td>1</td>\n",
       "      <td>10</td>\n",
       "      <td>7</td>\n",
       "      <td>NaN</td>\n",
       "      <td>4</td>\n",
       "      <td>...</td>\n",
       "      <td>5.0</td>\n",
       "      <td>7.0</td>\n",
       "      <td>7.0</td>\n",
       "      <td>7.0</td>\n",
       "      <td>7.0</td>\n",
       "      <td>NaN</td>\n",
       "      <td>NaN</td>\n",
       "      <td>NaN</td>\n",
       "      <td>NaN</td>\n",
       "      <td>NaN</td>\n",
       "    </tr>\n",
       "    <tr>\n",
       "      <th>1</th>\n",
       "      <td>1</td>\n",
       "      <td>1.0</td>\n",
       "      <td>0</td>\n",
       "      <td>1</td>\n",
       "      <td>1</td>\n",
       "      <td>1</td>\n",
       "      <td>10</td>\n",
       "      <td>7</td>\n",
       "      <td>NaN</td>\n",
       "      <td>3</td>\n",
       "      <td>...</td>\n",
       "      <td>5.0</td>\n",
       "      <td>7.0</td>\n",
       "      <td>7.0</td>\n",
       "      <td>7.0</td>\n",
       "      <td>7.0</td>\n",
       "      <td>NaN</td>\n",
       "      <td>NaN</td>\n",
       "      <td>NaN</td>\n",
       "      <td>NaN</td>\n",
       "      <td>NaN</td>\n",
       "    </tr>\n",
       "    <tr>\n",
       "      <th>2</th>\n",
       "      <td>1</td>\n",
       "      <td>1.0</td>\n",
       "      <td>0</td>\n",
       "      <td>1</td>\n",
       "      <td>1</td>\n",
       "      <td>1</td>\n",
       "      <td>10</td>\n",
       "      <td>7</td>\n",
       "      <td>NaN</td>\n",
       "      <td>10</td>\n",
       "      <td>...</td>\n",
       "      <td>5.0</td>\n",
       "      <td>7.0</td>\n",
       "      <td>7.0</td>\n",
       "      <td>7.0</td>\n",
       "      <td>7.0</td>\n",
       "      <td>NaN</td>\n",
       "      <td>NaN</td>\n",
       "      <td>NaN</td>\n",
       "      <td>NaN</td>\n",
       "      <td>NaN</td>\n",
       "    </tr>\n",
       "    <tr>\n",
       "      <th>3</th>\n",
       "      <td>1</td>\n",
       "      <td>1.0</td>\n",
       "      <td>0</td>\n",
       "      <td>1</td>\n",
       "      <td>1</td>\n",
       "      <td>1</td>\n",
       "      <td>10</td>\n",
       "      <td>7</td>\n",
       "      <td>NaN</td>\n",
       "      <td>5</td>\n",
       "      <td>...</td>\n",
       "      <td>5.0</td>\n",
       "      <td>7.0</td>\n",
       "      <td>7.0</td>\n",
       "      <td>7.0</td>\n",
       "      <td>7.0</td>\n",
       "      <td>NaN</td>\n",
       "      <td>NaN</td>\n",
       "      <td>NaN</td>\n",
       "      <td>NaN</td>\n",
       "      <td>NaN</td>\n",
       "    </tr>\n",
       "    <tr>\n",
       "      <th>4</th>\n",
       "      <td>1</td>\n",
       "      <td>1.0</td>\n",
       "      <td>0</td>\n",
       "      <td>1</td>\n",
       "      <td>1</td>\n",
       "      <td>1</td>\n",
       "      <td>10</td>\n",
       "      <td>7</td>\n",
       "      <td>NaN</td>\n",
       "      <td>7</td>\n",
       "      <td>...</td>\n",
       "      <td>5.0</td>\n",
       "      <td>7.0</td>\n",
       "      <td>7.0</td>\n",
       "      <td>7.0</td>\n",
       "      <td>7.0</td>\n",
       "      <td>NaN</td>\n",
       "      <td>NaN</td>\n",
       "      <td>NaN</td>\n",
       "      <td>NaN</td>\n",
       "      <td>NaN</td>\n",
       "    </tr>\n",
       "  </tbody>\n",
       "</table>\n",
       "<p>5 rows × 195 columns</p>\n",
       "</div>"
      ],
      "text/plain": [
       "   iid   id  gender  idg  condtn  wave  round  position  positin1  order  ...  \\\n",
       "0    1  1.0       0    1       1     1     10         7       NaN      4  ...   \n",
       "1    1  1.0       0    1       1     1     10         7       NaN      3  ...   \n",
       "2    1  1.0       0    1       1     1     10         7       NaN     10  ...   \n",
       "3    1  1.0       0    1       1     1     10         7       NaN      5  ...   \n",
       "4    1  1.0       0    1       1     1     10         7       NaN      7  ...   \n",
       "\n",
       "   attr3_3  sinc3_3  intel3_3  fun3_3  amb3_3  attr5_3  sinc5_3  intel5_3  \\\n",
       "0      5.0      7.0       7.0     7.0     7.0      NaN      NaN       NaN   \n",
       "1      5.0      7.0       7.0     7.0     7.0      NaN      NaN       NaN   \n",
       "2      5.0      7.0       7.0     7.0     7.0      NaN      NaN       NaN   \n",
       "3      5.0      7.0       7.0     7.0     7.0      NaN      NaN       NaN   \n",
       "4      5.0      7.0       7.0     7.0     7.0      NaN      NaN       NaN   \n",
       "\n",
       "   fun5_3  amb5_3  \n",
       "0     NaN     NaN  \n",
       "1     NaN     NaN  \n",
       "2     NaN     NaN  \n",
       "3     NaN     NaN  \n",
       "4     NaN     NaN  \n",
       "\n",
       "[5 rows x 195 columns]"
      ]
     },
     "execution_count": 2,
     "metadata": {},
     "output_type": "execute_result"
    }
   ],
   "source": [
    "df = pd.read_csv(\"C:/Users/oussm/Downloads/python_formation/Speed+Dating+Data.csv\", encoding=\"latin1\")\n",
    "df.head()"
   ]
  },
  {
   "cell_type": "code",
   "execution_count": 3,
   "id": "be8ad3fd",
   "metadata": {},
   "outputs": [],
   "source": [
    "nom_des_colonnes = df.columns.tolist()"
   ]
  },
  {
   "cell_type": "code",
   "execution_count": 4,
   "id": "ce2842f8",
   "metadata": {
    "scrolled": true
   },
   "outputs": [],
   "source": [
    "#nom_des_colonnes "
   ]
  },
  {
   "cell_type": "code",
   "execution_count": 5,
   "id": "9ea6dcf8",
   "metadata": {},
   "outputs": [
    {
     "data": {
      "text/plain": [
       "182"
      ]
     },
     "execution_count": 5,
     "metadata": {},
     "output_type": "execute_result"
    }
   ],
   "source": [
    "df.isnull().any().sum()"
   ]
  },
  {
   "cell_type": "code",
   "execution_count": 6,
   "id": "93da72f2",
   "metadata": {},
   "outputs": [
    {
     "data": {
      "text/html": [
       "<div>\n",
       "<style scoped>\n",
       "    .dataframe tbody tr th:only-of-type {\n",
       "        vertical-align: middle;\n",
       "    }\n",
       "\n",
       "    .dataframe tbody tr th {\n",
       "        vertical-align: top;\n",
       "    }\n",
       "\n",
       "    .dataframe thead th {\n",
       "        text-align: right;\n",
       "    }\n",
       "</style>\n",
       "<table border=\"1\" class=\"dataframe\">\n",
       "  <thead>\n",
       "    <tr style=\"text-align: right;\">\n",
       "      <th></th>\n",
       "      <th>id</th>\n",
       "      <th>positin1</th>\n",
       "      <th>pid</th>\n",
       "      <th>int_corr</th>\n",
       "      <th>age_o</th>\n",
       "      <th>race_o</th>\n",
       "      <th>pf_o_att</th>\n",
       "      <th>pf_o_sin</th>\n",
       "      <th>pf_o_int</th>\n",
       "      <th>pf_o_fun</th>\n",
       "      <th>...</th>\n",
       "      <th>attr3_3</th>\n",
       "      <th>sinc3_3</th>\n",
       "      <th>intel3_3</th>\n",
       "      <th>fun3_3</th>\n",
       "      <th>amb3_3</th>\n",
       "      <th>attr5_3</th>\n",
       "      <th>sinc5_3</th>\n",
       "      <th>intel5_3</th>\n",
       "      <th>fun5_3</th>\n",
       "      <th>amb5_3</th>\n",
       "    </tr>\n",
       "  </thead>\n",
       "  <tbody>\n",
       "    <tr>\n",
       "      <th>0</th>\n",
       "      <td>1.0</td>\n",
       "      <td>NaN</td>\n",
       "      <td>11.0</td>\n",
       "      <td>0.14</td>\n",
       "      <td>27.0</td>\n",
       "      <td>2.0</td>\n",
       "      <td>35.0</td>\n",
       "      <td>20.0</td>\n",
       "      <td>20.0</td>\n",
       "      <td>20.0</td>\n",
       "      <td>...</td>\n",
       "      <td>5.0</td>\n",
       "      <td>7.0</td>\n",
       "      <td>7.0</td>\n",
       "      <td>7.0</td>\n",
       "      <td>7.0</td>\n",
       "      <td>NaN</td>\n",
       "      <td>NaN</td>\n",
       "      <td>NaN</td>\n",
       "      <td>NaN</td>\n",
       "      <td>NaN</td>\n",
       "    </tr>\n",
       "    <tr>\n",
       "      <th>1</th>\n",
       "      <td>1.0</td>\n",
       "      <td>NaN</td>\n",
       "      <td>12.0</td>\n",
       "      <td>0.54</td>\n",
       "      <td>22.0</td>\n",
       "      <td>2.0</td>\n",
       "      <td>60.0</td>\n",
       "      <td>0.0</td>\n",
       "      <td>0.0</td>\n",
       "      <td>40.0</td>\n",
       "      <td>...</td>\n",
       "      <td>5.0</td>\n",
       "      <td>7.0</td>\n",
       "      <td>7.0</td>\n",
       "      <td>7.0</td>\n",
       "      <td>7.0</td>\n",
       "      <td>NaN</td>\n",
       "      <td>NaN</td>\n",
       "      <td>NaN</td>\n",
       "      <td>NaN</td>\n",
       "      <td>NaN</td>\n",
       "    </tr>\n",
       "    <tr>\n",
       "      <th>2</th>\n",
       "      <td>1.0</td>\n",
       "      <td>NaN</td>\n",
       "      <td>13.0</td>\n",
       "      <td>0.16</td>\n",
       "      <td>22.0</td>\n",
       "      <td>4.0</td>\n",
       "      <td>19.0</td>\n",
       "      <td>18.0</td>\n",
       "      <td>19.0</td>\n",
       "      <td>18.0</td>\n",
       "      <td>...</td>\n",
       "      <td>5.0</td>\n",
       "      <td>7.0</td>\n",
       "      <td>7.0</td>\n",
       "      <td>7.0</td>\n",
       "      <td>7.0</td>\n",
       "      <td>NaN</td>\n",
       "      <td>NaN</td>\n",
       "      <td>NaN</td>\n",
       "      <td>NaN</td>\n",
       "      <td>NaN</td>\n",
       "    </tr>\n",
       "    <tr>\n",
       "      <th>3</th>\n",
       "      <td>1.0</td>\n",
       "      <td>NaN</td>\n",
       "      <td>14.0</td>\n",
       "      <td>0.61</td>\n",
       "      <td>23.0</td>\n",
       "      <td>2.0</td>\n",
       "      <td>30.0</td>\n",
       "      <td>5.0</td>\n",
       "      <td>15.0</td>\n",
       "      <td>40.0</td>\n",
       "      <td>...</td>\n",
       "      <td>5.0</td>\n",
       "      <td>7.0</td>\n",
       "      <td>7.0</td>\n",
       "      <td>7.0</td>\n",
       "      <td>7.0</td>\n",
       "      <td>NaN</td>\n",
       "      <td>NaN</td>\n",
       "      <td>NaN</td>\n",
       "      <td>NaN</td>\n",
       "      <td>NaN</td>\n",
       "    </tr>\n",
       "    <tr>\n",
       "      <th>4</th>\n",
       "      <td>1.0</td>\n",
       "      <td>NaN</td>\n",
       "      <td>15.0</td>\n",
       "      <td>0.21</td>\n",
       "      <td>24.0</td>\n",
       "      <td>3.0</td>\n",
       "      <td>30.0</td>\n",
       "      <td>10.0</td>\n",
       "      <td>20.0</td>\n",
       "      <td>10.0</td>\n",
       "      <td>...</td>\n",
       "      <td>5.0</td>\n",
       "      <td>7.0</td>\n",
       "      <td>7.0</td>\n",
       "      <td>7.0</td>\n",
       "      <td>7.0</td>\n",
       "      <td>NaN</td>\n",
       "      <td>NaN</td>\n",
       "      <td>NaN</td>\n",
       "      <td>NaN</td>\n",
       "      <td>NaN</td>\n",
       "    </tr>\n",
       "    <tr>\n",
       "      <th>...</th>\n",
       "      <td>...</td>\n",
       "      <td>...</td>\n",
       "      <td>...</td>\n",
       "      <td>...</td>\n",
       "      <td>...</td>\n",
       "      <td>...</td>\n",
       "      <td>...</td>\n",
       "      <td>...</td>\n",
       "      <td>...</td>\n",
       "      <td>...</td>\n",
       "      <td>...</td>\n",
       "      <td>...</td>\n",
       "      <td>...</td>\n",
       "      <td>...</td>\n",
       "      <td>...</td>\n",
       "      <td>...</td>\n",
       "      <td>...</td>\n",
       "      <td>...</td>\n",
       "      <td>...</td>\n",
       "      <td>...</td>\n",
       "      <td>...</td>\n",
       "    </tr>\n",
       "    <tr>\n",
       "      <th>8373</th>\n",
       "      <td>22.0</td>\n",
       "      <td>10.0</td>\n",
       "      <td>526.0</td>\n",
       "      <td>0.64</td>\n",
       "      <td>26.0</td>\n",
       "      <td>3.0</td>\n",
       "      <td>10.0</td>\n",
       "      <td>10.0</td>\n",
       "      <td>30.0</td>\n",
       "      <td>20.0</td>\n",
       "      <td>...</td>\n",
       "      <td>8.0</td>\n",
       "      <td>5.0</td>\n",
       "      <td>7.0</td>\n",
       "      <td>6.0</td>\n",
       "      <td>7.0</td>\n",
       "      <td>9.0</td>\n",
       "      <td>5.0</td>\n",
       "      <td>9.0</td>\n",
       "      <td>5.0</td>\n",
       "      <td>6.0</td>\n",
       "    </tr>\n",
       "    <tr>\n",
       "      <th>8374</th>\n",
       "      <td>22.0</td>\n",
       "      <td>10.0</td>\n",
       "      <td>527.0</td>\n",
       "      <td>0.71</td>\n",
       "      <td>24.0</td>\n",
       "      <td>6.0</td>\n",
       "      <td>50.0</td>\n",
       "      <td>20.0</td>\n",
       "      <td>10.0</td>\n",
       "      <td>5.0</td>\n",
       "      <td>...</td>\n",
       "      <td>8.0</td>\n",
       "      <td>5.0</td>\n",
       "      <td>7.0</td>\n",
       "      <td>6.0</td>\n",
       "      <td>7.0</td>\n",
       "      <td>9.0</td>\n",
       "      <td>5.0</td>\n",
       "      <td>9.0</td>\n",
       "      <td>5.0</td>\n",
       "      <td>6.0</td>\n",
       "    </tr>\n",
       "    <tr>\n",
       "      <th>8375</th>\n",
       "      <td>22.0</td>\n",
       "      <td>10.0</td>\n",
       "      <td>528.0</td>\n",
       "      <td>-0.46</td>\n",
       "      <td>29.0</td>\n",
       "      <td>3.0</td>\n",
       "      <td>40.0</td>\n",
       "      <td>10.0</td>\n",
       "      <td>30.0</td>\n",
       "      <td>10.0</td>\n",
       "      <td>...</td>\n",
       "      <td>8.0</td>\n",
       "      <td>5.0</td>\n",
       "      <td>7.0</td>\n",
       "      <td>6.0</td>\n",
       "      <td>7.0</td>\n",
       "      <td>9.0</td>\n",
       "      <td>5.0</td>\n",
       "      <td>9.0</td>\n",
       "      <td>5.0</td>\n",
       "      <td>6.0</td>\n",
       "    </tr>\n",
       "    <tr>\n",
       "      <th>8376</th>\n",
       "      <td>22.0</td>\n",
       "      <td>10.0</td>\n",
       "      <td>529.0</td>\n",
       "      <td>0.62</td>\n",
       "      <td>22.0</td>\n",
       "      <td>4.0</td>\n",
       "      <td>10.0</td>\n",
       "      <td>25.0</td>\n",
       "      <td>25.0</td>\n",
       "      <td>10.0</td>\n",
       "      <td>...</td>\n",
       "      <td>8.0</td>\n",
       "      <td>5.0</td>\n",
       "      <td>7.0</td>\n",
       "      <td>6.0</td>\n",
       "      <td>7.0</td>\n",
       "      <td>9.0</td>\n",
       "      <td>5.0</td>\n",
       "      <td>9.0</td>\n",
       "      <td>5.0</td>\n",
       "      <td>6.0</td>\n",
       "    </tr>\n",
       "    <tr>\n",
       "      <th>8377</th>\n",
       "      <td>NaN</td>\n",
       "      <td>10.0</td>\n",
       "      <td>530.0</td>\n",
       "      <td>0.01</td>\n",
       "      <td>22.0</td>\n",
       "      <td>4.0</td>\n",
       "      <td>20.0</td>\n",
       "      <td>20.0</td>\n",
       "      <td>10.0</td>\n",
       "      <td>15.0</td>\n",
       "      <td>...</td>\n",
       "      <td>8.0</td>\n",
       "      <td>5.0</td>\n",
       "      <td>7.0</td>\n",
       "      <td>6.0</td>\n",
       "      <td>7.0</td>\n",
       "      <td>9.0</td>\n",
       "      <td>5.0</td>\n",
       "      <td>9.0</td>\n",
       "      <td>5.0</td>\n",
       "      <td>6.0</td>\n",
       "    </tr>\n",
       "  </tbody>\n",
       "</table>\n",
       "<p>8378 rows × 182 columns</p>\n",
       "</div>"
      ],
      "text/plain": [
       "        id  positin1    pid  int_corr  age_o  race_o  pf_o_att  pf_o_sin  \\\n",
       "0      1.0       NaN   11.0      0.14   27.0     2.0      35.0      20.0   \n",
       "1      1.0       NaN   12.0      0.54   22.0     2.0      60.0       0.0   \n",
       "2      1.0       NaN   13.0      0.16   22.0     4.0      19.0      18.0   \n",
       "3      1.0       NaN   14.0      0.61   23.0     2.0      30.0       5.0   \n",
       "4      1.0       NaN   15.0      0.21   24.0     3.0      30.0      10.0   \n",
       "...    ...       ...    ...       ...    ...     ...       ...       ...   \n",
       "8373  22.0      10.0  526.0      0.64   26.0     3.0      10.0      10.0   \n",
       "8374  22.0      10.0  527.0      0.71   24.0     6.0      50.0      20.0   \n",
       "8375  22.0      10.0  528.0     -0.46   29.0     3.0      40.0      10.0   \n",
       "8376  22.0      10.0  529.0      0.62   22.0     4.0      10.0      25.0   \n",
       "8377   NaN      10.0  530.0      0.01   22.0     4.0      20.0      20.0   \n",
       "\n",
       "      pf_o_int  pf_o_fun  ...  attr3_3  sinc3_3  intel3_3  fun3_3  amb3_3  \\\n",
       "0         20.0      20.0  ...      5.0      7.0       7.0     7.0     7.0   \n",
       "1          0.0      40.0  ...      5.0      7.0       7.0     7.0     7.0   \n",
       "2         19.0      18.0  ...      5.0      7.0       7.0     7.0     7.0   \n",
       "3         15.0      40.0  ...      5.0      7.0       7.0     7.0     7.0   \n",
       "4         20.0      10.0  ...      5.0      7.0       7.0     7.0     7.0   \n",
       "...        ...       ...  ...      ...      ...       ...     ...     ...   \n",
       "8373      30.0      20.0  ...      8.0      5.0       7.0     6.0     7.0   \n",
       "8374      10.0       5.0  ...      8.0      5.0       7.0     6.0     7.0   \n",
       "8375      30.0      10.0  ...      8.0      5.0       7.0     6.0     7.0   \n",
       "8376      25.0      10.0  ...      8.0      5.0       7.0     6.0     7.0   \n",
       "8377      10.0      15.0  ...      8.0      5.0       7.0     6.0     7.0   \n",
       "\n",
       "      attr5_3  sinc5_3  intel5_3  fun5_3  amb5_3  \n",
       "0         NaN      NaN       NaN     NaN     NaN  \n",
       "1         NaN      NaN       NaN     NaN     NaN  \n",
       "2         NaN      NaN       NaN     NaN     NaN  \n",
       "3         NaN      NaN       NaN     NaN     NaN  \n",
       "4         NaN      NaN       NaN     NaN     NaN  \n",
       "...       ...      ...       ...     ...     ...  \n",
       "8373      9.0      5.0       9.0     5.0     6.0  \n",
       "8374      9.0      5.0       9.0     5.0     6.0  \n",
       "8375      9.0      5.0       9.0     5.0     6.0  \n",
       "8376      9.0      5.0       9.0     5.0     6.0  \n",
       "8377      9.0      5.0       9.0     5.0     6.0  \n",
       "\n",
       "[8378 rows x 182 columns]"
      ]
     },
     "execution_count": 6,
     "metadata": {},
     "output_type": "execute_result"
    }
   ],
   "source": [
    "null = df.loc[:,df.isnull().any()]\n",
    "null"
   ]
  },
  {
   "cell_type": "code",
   "execution_count": 7,
   "id": "54821862",
   "metadata": {},
   "outputs": [
    {
     "data": {
      "text/plain": [
       "0.22033898305084745"
      ]
     },
     "execution_count": 7,
     "metadata": {},
     "output_type": "execute_result"
    }
   ],
   "source": [
    "null[\"positin1\"].isnull().sum() / len(null[\"positin1\"])"
   ]
  },
  {
   "cell_type": "code",
   "execution_count": 8,
   "id": "34626357",
   "metadata": {},
   "outputs": [
    {
     "data": {
      "text/plain": [
       "182"
      ]
     },
     "execution_count": 8,
     "metadata": {},
     "output_type": "execute_result"
    }
   ],
   "source": [
    "df.isnull().any().sum()"
   ]
  },
  {
   "cell_type": "code",
   "execution_count": 9,
   "id": "593532d8",
   "metadata": {
    "scrolled": true
   },
   "outputs": [],
   "source": [
    "null = df.loc[:,df.isnull().any()]\n",
    "#null"
   ]
  },
  {
   "cell_type": "code",
   "execution_count": 10,
   "id": "c93c4f8f",
   "metadata": {},
   "outputs": [],
   "source": [
    "#null[\"shar\"].isnull().sum() / len(null[\"shar\"])\n",
    "#null[\"like\"].isnull().sum() / len(null[\"like\"])\n",
    "#null[\"attr\"].isnull().sum() / len(null[\"attr\"])"
   ]
  },
  {
   "cell_type": "code",
   "execution_count": 11,
   "id": "480a4bb1",
   "metadata": {},
   "outputs": [],
   "source": [
    "#sns.lineplot(data=point_dinteret_1 , x='like', y='attr')\n",
    "#sns.lineplot(data=point_dinteret_2 , x='like', y='attr')"
   ]
  },
  {
   "cell_type": "markdown",
   "id": "aec8d910",
   "metadata": {},
   "source": [
    "# Quels sont les attributs les moins désirables chez un partenaire masculin ? Est-ce différent pour les partenaires féminines ?"
   ]
  },
  {
   "cell_type": "code",
   "execution_count": 12,
   "id": "6896599f",
   "metadata": {},
   "outputs": [],
   "source": [
    "#sns.relplot(data=data, x=\"like\", y=\"sinc\", hue=\"like\", col=\"dec\", row=\"gender\")\n",
    "#sns.relplot(data=data, x=\"like\", y=\"intel\", hue=\"like\", col=\"dec\", row=\"gender\")\n",
    "#sns.relplot(data=data, x=\"like\", y=\"fun\", hue=\"like\", col=\"dec\", row=\"gender\")"
   ]
  },
  {
   "cell_type": "markdown",
   "id": "b5eb87a7",
   "metadata": {},
   "source": [
    "# Concaténation de deux colonnes : la colonne \"décision\" du partenaire et la colonne \"genre\"."
   ]
  },
  {
   "cell_type": "code",
   "execution_count": 13,
   "id": "f7ef0c1e",
   "metadata": {},
   "outputs": [
    {
     "data": {
      "text/html": [
       "<div>\n",
       "<style scoped>\n",
       "    .dataframe tbody tr th:only-of-type {\n",
       "        vertical-align: middle;\n",
       "    }\n",
       "\n",
       "    .dataframe tbody tr th {\n",
       "        vertical-align: top;\n",
       "    }\n",
       "\n",
       "    .dataframe thead th {\n",
       "        text-align: right;\n",
       "    }\n",
       "</style>\n",
       "<table border=\"1\" class=\"dataframe\">\n",
       "  <thead>\n",
       "    <tr style=\"text-align: right;\">\n",
       "      <th></th>\n",
       "      <th>iid</th>\n",
       "      <th>id</th>\n",
       "      <th>gender</th>\n",
       "      <th>idg</th>\n",
       "      <th>condtn</th>\n",
       "      <th>wave</th>\n",
       "      <th>round</th>\n",
       "      <th>position</th>\n",
       "      <th>positin1</th>\n",
       "      <th>order</th>\n",
       "      <th>...</th>\n",
       "      <th>sinc3_3</th>\n",
       "      <th>intel3_3</th>\n",
       "      <th>fun3_3</th>\n",
       "      <th>amb3_3</th>\n",
       "      <th>attr5_3</th>\n",
       "      <th>sinc5_3</th>\n",
       "      <th>intel5_3</th>\n",
       "      <th>fun5_3</th>\n",
       "      <th>amb5_3</th>\n",
       "      <th>dec_gender</th>\n",
       "    </tr>\n",
       "  </thead>\n",
       "  <tbody>\n",
       "    <tr>\n",
       "      <th>0</th>\n",
       "      <td>1</td>\n",
       "      <td>1.0</td>\n",
       "      <td>0</td>\n",
       "      <td>1</td>\n",
       "      <td>1</td>\n",
       "      <td>1</td>\n",
       "      <td>10</td>\n",
       "      <td>7</td>\n",
       "      <td>NaN</td>\n",
       "      <td>4</td>\n",
       "      <td>...</td>\n",
       "      <td>7.0</td>\n",
       "      <td>7.0</td>\n",
       "      <td>7.0</td>\n",
       "      <td>7.0</td>\n",
       "      <td>NaN</td>\n",
       "      <td>NaN</td>\n",
       "      <td>NaN</td>\n",
       "      <td>NaN</td>\n",
       "      <td>NaN</td>\n",
       "      <td>10</td>\n",
       "    </tr>\n",
       "    <tr>\n",
       "      <th>1</th>\n",
       "      <td>1</td>\n",
       "      <td>1.0</td>\n",
       "      <td>0</td>\n",
       "      <td>1</td>\n",
       "      <td>1</td>\n",
       "      <td>1</td>\n",
       "      <td>10</td>\n",
       "      <td>7</td>\n",
       "      <td>NaN</td>\n",
       "      <td>3</td>\n",
       "      <td>...</td>\n",
       "      <td>7.0</td>\n",
       "      <td>7.0</td>\n",
       "      <td>7.0</td>\n",
       "      <td>7.0</td>\n",
       "      <td>NaN</td>\n",
       "      <td>NaN</td>\n",
       "      <td>NaN</td>\n",
       "      <td>NaN</td>\n",
       "      <td>NaN</td>\n",
       "      <td>10</td>\n",
       "    </tr>\n",
       "    <tr>\n",
       "      <th>2</th>\n",
       "      <td>1</td>\n",
       "      <td>1.0</td>\n",
       "      <td>0</td>\n",
       "      <td>1</td>\n",
       "      <td>1</td>\n",
       "      <td>1</td>\n",
       "      <td>10</td>\n",
       "      <td>7</td>\n",
       "      <td>NaN</td>\n",
       "      <td>10</td>\n",
       "      <td>...</td>\n",
       "      <td>7.0</td>\n",
       "      <td>7.0</td>\n",
       "      <td>7.0</td>\n",
       "      <td>7.0</td>\n",
       "      <td>NaN</td>\n",
       "      <td>NaN</td>\n",
       "      <td>NaN</td>\n",
       "      <td>NaN</td>\n",
       "      <td>NaN</td>\n",
       "      <td>10</td>\n",
       "    </tr>\n",
       "    <tr>\n",
       "      <th>3</th>\n",
       "      <td>1</td>\n",
       "      <td>1.0</td>\n",
       "      <td>0</td>\n",
       "      <td>1</td>\n",
       "      <td>1</td>\n",
       "      <td>1</td>\n",
       "      <td>10</td>\n",
       "      <td>7</td>\n",
       "      <td>NaN</td>\n",
       "      <td>5</td>\n",
       "      <td>...</td>\n",
       "      <td>7.0</td>\n",
       "      <td>7.0</td>\n",
       "      <td>7.0</td>\n",
       "      <td>7.0</td>\n",
       "      <td>NaN</td>\n",
       "      <td>NaN</td>\n",
       "      <td>NaN</td>\n",
       "      <td>NaN</td>\n",
       "      <td>NaN</td>\n",
       "      <td>10</td>\n",
       "    </tr>\n",
       "    <tr>\n",
       "      <th>4</th>\n",
       "      <td>1</td>\n",
       "      <td>1.0</td>\n",
       "      <td>0</td>\n",
       "      <td>1</td>\n",
       "      <td>1</td>\n",
       "      <td>1</td>\n",
       "      <td>10</td>\n",
       "      <td>7</td>\n",
       "      <td>NaN</td>\n",
       "      <td>7</td>\n",
       "      <td>...</td>\n",
       "      <td>7.0</td>\n",
       "      <td>7.0</td>\n",
       "      <td>7.0</td>\n",
       "      <td>7.0</td>\n",
       "      <td>NaN</td>\n",
       "      <td>NaN</td>\n",
       "      <td>NaN</td>\n",
       "      <td>NaN</td>\n",
       "      <td>NaN</td>\n",
       "      <td>10</td>\n",
       "    </tr>\n",
       "  </tbody>\n",
       "</table>\n",
       "<p>5 rows × 196 columns</p>\n",
       "</div>"
      ],
      "text/plain": [
       "   iid   id  gender  idg  condtn  wave  round  position  positin1  order  ...  \\\n",
       "0    1  1.0       0    1       1     1     10         7       NaN      4  ...   \n",
       "1    1  1.0       0    1       1     1     10         7       NaN      3  ...   \n",
       "2    1  1.0       0    1       1     1     10         7       NaN     10  ...   \n",
       "3    1  1.0       0    1       1     1     10         7       NaN      5  ...   \n",
       "4    1  1.0       0    1       1     1     10         7       NaN      7  ...   \n",
       "\n",
       "   sinc3_3  intel3_3  fun3_3  amb3_3  attr5_3  sinc5_3  intel5_3  fun5_3  \\\n",
       "0      7.0       7.0     7.0     7.0      NaN      NaN       NaN     NaN   \n",
       "1      7.0       7.0     7.0     7.0      NaN      NaN       NaN     NaN   \n",
       "2      7.0       7.0     7.0     7.0      NaN      NaN       NaN     NaN   \n",
       "3      7.0       7.0     7.0     7.0      NaN      NaN       NaN     NaN   \n",
       "4      7.0       7.0     7.0     7.0      NaN      NaN       NaN     NaN   \n",
       "\n",
       "   amb5_3  dec_gender  \n",
       "0     NaN          10  \n",
       "1     NaN          10  \n",
       "2     NaN          10  \n",
       "3     NaN          10  \n",
       "4     NaN          10  \n",
       "\n",
       "[5 rows x 196 columns]"
      ]
     },
     "execution_count": 13,
     "metadata": {},
     "output_type": "execute_result"
    }
   ],
   "source": [
    "df['dec_gender'] = df['dec'].astype(str) + df['gender'].astype(str)\n",
    "df.head()"
   ]
  },
  {
   "cell_type": "markdown",
   "id": "bef7753e",
   "metadata": {},
   "source": [
    "# Les tableaux suivants montrent la corrélation entre le choix du partenaire et le critère \"fun\". En observant ces tableaux ci-dessous, on peut remarquer la corrélation entre les personnes ayant une bonne note en \"like\", qui représente une appréciation générale, et celles que l'on trouve amusantes. Inversement, on remarque que certaines personnes ont une bonne note générale, donc un bon \"like\", mais une mauvaise note en \"fun\", ce qui fait qu'elles ne sont pas choisies pour une deuxième rencontre.\""
   ]
  },
  {
   "cell_type": "code",
   "execution_count": 14,
   "id": "44332315",
   "metadata": {
    "scrolled": false
   },
   "outputs": [
    {
     "data": {
      "text/plain": [
       "<Axes: xlabel='fun', ylabel='like'>"
      ]
     },
     "execution_count": 14,
     "metadata": {},
     "output_type": "execute_result"
    },
    {
     "data": {
      "image/png": "[encoded data removed]",
      "text/plain": [
       "<Figure size 640x480 with 1 Axes>"
      ]
     },
     "metadata": {},
     "output_type": "display_data"
    }
   ],
   "source": [
    "sns.barplot(df , x=\"fun\", y=\"like\", estimator=\"mean\", hue='dec_gender' ,errorbar=None)\n",
    "#genre 0 = femme 1 = homme, decision 0 = non 1 = oui"
   ]
  },
  {
   "cell_type": "code",
   "execution_count": 15,
   "id": "5e99fd39",
   "metadata": {},
   "outputs": [
    {
     "data": {
      "text/plain": [
       "<Axes: xlabel='fun', ylabel='like'>"
      ]
     },
     "execution_count": 15,
     "metadata": {},
     "output_type": "execute_result"
    },
    {
     "data": {
      "image/png": "[encoded data removed]",
      "text/plain": [
       "<Figure size 640x480 with 1 Axes>"
      ]
     },
     "metadata": {},
     "output_type": "display_data"
    }
   ],
   "source": [
    "sns.lineplot(data=df, x=\"fun\", y=\"like\", hue='dec_gender' )"
   ]
  },
  {
   "cell_type": "code",
   "execution_count": 16,
   "id": "5b71e2a6",
   "metadata": {
    "scrolled": false
   },
   "outputs": [],
   "source": [
    "#sns.relplot(data=data, x=\"fun\", y=\"like\", hue=\"dec\", row=\"gender\")\n",
    "#plt.legend(title='gender: 0 = Femme, 1 = homme, decision 0 non, 1 oui', loc=2, bbox_to_anchor=(1, 2))"
   ]
  },
  {
   "cell_type": "markdown",
   "id": "f9eb27ae",
   "metadata": {},
   "source": [
    "# parmis ceux qui on demander un deuxieme rdv le on trouve plus de personne qui ont les memes centre d'interet  "
   ]
  },
  {
   "cell_type": "code",
   "execution_count": 17,
   "id": "0163b8be",
   "metadata": {
    "scrolled": true
   },
   "outputs": [
    {
     "data": {
      "image/png": "[encoded data removed]",
      "text/plain": [
       "<Figure size 640x480 with 1 Axes>"
      ]
     },
     "metadata": {},
     "output_type": "display_data"
    }
   ],
   "source": [
    "fun = sns.barplot(df, x=\"fun\", y=\"like\", estimator=\"mean\", hue='dec' ,errorbar=None)\n",
    "plt.legend(title='comparaison entre attractivité est fun',  loc=2, bbox_to_anchor=(1, 1))\n",
    "fun.bar_label(fun.containers[1], fmt='%.2f');"
   ]
  },
  {
   "cell_type": "code",
   "execution_count": 18,
   "id": "5c6a151f",
   "metadata": {
    "scrolled": true
   },
   "outputs": [
    {
     "data": {
      "image/png": "[encoded data removed]",
      "text/plain": [
       "<Figure size 640x480 with 1 Axes>"
      ]
     },
     "metadata": {},
     "output_type": "display_data"
    }
   ],
   "source": [
    "fun_1 = sns.lineplot(data=df , x=\"fun\", y=\"like\", hue='dec' )\n"
   ]
  },
  {
   "cell_type": "markdown",
   "id": "10f14ddb",
   "metadata": {},
   "source": [
    "# En calculant la différence entre ceux qui ont une bonne note en \"fun\", donc plus de 5 sur 10, et ceux qui ont une mauvaise note en \"fun\", donc moins de 5 sur 10, on constate que ceux qui ont une note supérieure à 5 ont 6 fois plus de chances d'être choisis en generale."
   ]
  },
  {
   "cell_type": "code",
   "execution_count": 19,
   "id": "8e640ca5",
   "metadata": {},
   "outputs": [],
   "source": [
    "df_pas_fun = df[df['fun'] < 5 ]\n",
    "df_fun = df[df['fun'] > 5 ]"
   ]
  },
  {
   "cell_type": "code",
   "execution_count": 20,
   "id": "93cebc1c",
   "metadata": {},
   "outputs": [
    {
     "data": {
      "text/plain": [
       "0.08462164361269324"
      ]
     },
     "execution_count": 20,
     "metadata": {},
     "output_type": "execute_result"
    }
   ],
   "source": [
    "df_pas_fun['dec'].mean()"
   ]
  },
  {
   "cell_type": "code",
   "execution_count": 21,
   "id": "f98b7e94",
   "metadata": {
    "scrolled": false
   },
   "outputs": [
    {
     "data": {
      "text/plain": [
       "0.5410388229037405"
      ]
     },
     "execution_count": 21,
     "metadata": {},
     "output_type": "execute_result"
    }
   ],
   "source": [
    "df_fun['dec'].mean()"
   ]
  },
  {
   "cell_type": "code",
   "execution_count": 22,
   "id": "d850a0ed",
   "metadata": {},
   "outputs": [
    {
     "data": {
      "text/plain": [
       "6.393622243737473"
      ]
     },
     "execution_count": 22,
     "metadata": {},
     "output_type": "execute_result"
    }
   ],
   "source": [
    "0.5410388229037405/0.08462164361269324"
   ]
  },
  {
   "cell_type": "code",
   "execution_count": 23,
   "id": "4c3cdc9f",
   "metadata": {},
   "outputs": [
    {
     "data": {
      "text/plain": [
       "1229"
      ]
     },
     "execution_count": 23,
     "metadata": {},
     "output_type": "execute_result"
    }
   ],
   "source": [
    "len(df_pas_fun)"
   ]
  },
  {
   "cell_type": "code",
   "execution_count": 24,
   "id": "b80f328b",
   "metadata": {
    "scrolled": true
   },
   "outputs": [
    {
     "data": {
      "text/plain": [
       "5641"
      ]
     },
     "execution_count": 24,
     "metadata": {},
     "output_type": "execute_result"
    }
   ],
   "source": [
    "len(df_fun)"
   ]
  },
  {
   "cell_type": "markdown",
   "id": "fac0198e",
   "metadata": {},
   "source": [
    "# Difference entre hommes et femmes concernant le sujet du fun\n",
    "On voit ci-dessous que pour ceux qui ont décidé de rencontrer une deuxième fois la même personne, le critère du plaisir influence davantage leur choix. On en déduit donc que ce qu'ils détestent, c'est de ne pas trouver la personne en face amusante. Étant donné que nous observons chez les hommes cinq fois plus de chances d'être sélectionnés pour une deuxième rencontre et chez les femmes sept fois plus."
   ]
  },
  {
   "cell_type": "code",
   "execution_count": 25,
   "id": "be6c5bad",
   "metadata": {},
   "outputs": [],
   "source": [
    "df_homme = df[df['gender'] == 1]\n",
    "df_femme =  df[df['gender'] == 0]\n"
   ]
  },
  {
   "cell_type": "code",
   "execution_count": 26,
   "id": "e91c0d71",
   "metadata": {},
   "outputs": [],
   "source": [
    "pas_fun_homme = df_homme[df_homme['fun'] < 5]\n",
    "fun_homme = df_homme[df_homme['fun'] > 5]\n",
    "pas_fun_femme = df_femme[df_femme['fun'] < 5]\n",
    "fun_femme = df_femme[df_femme['fun'] > 5]"
   ]
  },
  {
   "cell_type": "code",
   "execution_count": 27,
   "id": "7319decd",
   "metadata": {},
   "outputs": [
    {
     "data": {
      "text/plain": [
       "510"
      ]
     },
     "execution_count": 27,
     "metadata": {},
     "output_type": "execute_result"
    }
   ],
   "source": [
    "len(pas_fun_homme)\n",
    "#len(fun_homme)\n",
    "#len(pas_fun_femme)\n",
    "#len(fun_femme)"
   ]
  },
  {
   "cell_type": "code",
   "execution_count": 28,
   "id": "a568a5b2",
   "metadata": {},
   "outputs": [
    {
     "data": {
      "text/plain": [
       "2916"
      ]
     },
     "execution_count": 28,
     "metadata": {},
     "output_type": "execute_result"
    }
   ],
   "source": [
    "len(fun_homme)"
   ]
  },
  {
   "cell_type": "code",
   "execution_count": 29,
   "id": "5183520c",
   "metadata": {},
   "outputs": [
    {
     "data": {
      "text/plain": [
       "719"
      ]
     },
     "execution_count": 29,
     "metadata": {},
     "output_type": "execute_result"
    }
   ],
   "source": [
    "len(pas_fun_femme)"
   ]
  },
  {
   "cell_type": "code",
   "execution_count": 30,
   "id": "6b67786e",
   "metadata": {},
   "outputs": [
    {
     "data": {
      "text/plain": [
       "2725"
      ]
     },
     "execution_count": 30,
     "metadata": {},
     "output_type": "execute_result"
    }
   ],
   "source": [
    "len(fun_femme)"
   ]
  },
  {
   "cell_type": "code",
   "execution_count": 31,
   "id": "d5b56801",
   "metadata": {},
   "outputs": [
    {
     "data": {
      "text/plain": [
       "0.10980392156862745"
      ]
     },
     "execution_count": 31,
     "metadata": {},
     "output_type": "execute_result"
    }
   ],
   "source": [
    "pas_fun_homme['dec'].mean()\n"
   ]
  },
  {
   "cell_type": "code",
   "execution_count": 32,
   "id": "04164069",
   "metadata": {},
   "outputs": [
    {
     "data": {
      "text/plain": [
       "0.5881344307270233"
      ]
     },
     "execution_count": 32,
     "metadata": {},
     "output_type": "execute_result"
    }
   ],
   "source": [
    "fun_homme['dec'].mean()"
   ]
  },
  {
   "cell_type": "markdown",
   "id": "ecdc89bd",
   "metadata": {},
   "source": [
    "Les hommes ont cinq fois plus de chances d'être sélectionnés s'ils sont considérés comme amusants par leur partenaire."
   ]
  },
  {
   "cell_type": "code",
   "execution_count": 33,
   "id": "d4ec3af1",
   "metadata": {},
   "outputs": [
    {
     "data": {
      "text/plain": [
       "5.356224279835391"
      ]
     },
     "execution_count": 33,
     "metadata": {},
     "output_type": "execute_result"
    }
   ],
   "source": [
    "0.5881344307270233/0.10980392156862745"
   ]
  },
  {
   "cell_type": "code",
   "execution_count": 34,
   "id": "4d6d9638",
   "metadata": {
    "scrolled": true
   },
   "outputs": [
    {
     "data": {
      "text/plain": [
       "0.06675938803894298"
      ]
     },
     "execution_count": 34,
     "metadata": {},
     "output_type": "execute_result"
    }
   ],
   "source": [
    "pas_fun_femme['dec'].mean()\n"
   ]
  },
  {
   "cell_type": "code",
   "execution_count": 35,
   "id": "0f36237e",
   "metadata": {},
   "outputs": [
    {
     "data": {
      "text/plain": [
       "0.4906422018348624"
      ]
     },
     "execution_count": 35,
     "metadata": {},
     "output_type": "execute_result"
    }
   ],
   "source": [
    "fun_femme['dec'].mean()"
   ]
  },
  {
   "cell_type": "markdown",
   "id": "6dcf62e6",
   "metadata": {},
   "source": [
    "Les femmes ont sept fois plus de chances d'être choisies si elles sont considérées comme amusantes par leur partenaire.\n",
    "\n",
    "\n",
    "\n",
    "\n"
   ]
  },
  {
   "cell_type": "code",
   "execution_count": 36,
   "id": "d2bbcbff",
   "metadata": {
    "scrolled": false
   },
   "outputs": [
    {
     "data": {
      "text/plain": [
       "7.349411314984709"
      ]
     },
     "execution_count": 36,
     "metadata": {},
     "output_type": "execute_result"
    }
   ],
   "source": [
    "0.4906422018348624/0.06675938803894298"
   ]
  },
  {
   "cell_type": "markdown",
   "id": "2ba7ab92",
   "metadata": {},
   "source": [
    "# En comparaison avec l'intelligence, on constate que les notes ne varient pas énormément"
   ]
  },
  {
   "cell_type": "code",
   "execution_count": 37,
   "id": "120a1555",
   "metadata": {},
   "outputs": [
    {
     "data": {
      "text/plain": [
       "6.098605577689243"
      ]
     },
     "execution_count": 37,
     "metadata": {},
     "output_type": "execute_result"
    }
   ],
   "source": [
    "pas_fun_homme['intel'].mean()"
   ]
  },
  {
   "cell_type": "code",
   "execution_count": 38,
   "id": "b84d95c8",
   "metadata": {},
   "outputs": [
    {
     "data": {
      "text/plain": [
       "7.637353144436766"
      ]
     },
     "execution_count": 38,
     "metadata": {},
     "output_type": "execute_result"
    }
   ],
   "source": [
    "fun_homme['intel'].mean()"
   ]
  },
  {
   "cell_type": "code",
   "execution_count": 39,
   "id": "b60758e8",
   "metadata": {},
   "outputs": [
    {
     "data": {
      "text/plain": [
       "6.320224719101123"
      ]
     },
     "execution_count": 39,
     "metadata": {},
     "output_type": "execute_result"
    }
   ],
   "source": [
    "pas_fun_femme['intel'].mean()"
   ]
  },
  {
   "cell_type": "code",
   "execution_count": 40,
   "id": "36031f18",
   "metadata": {},
   "outputs": [
    {
     "data": {
      "text/plain": [
       "7.860288675055514"
      ]
     },
     "execution_count": 40,
     "metadata": {},
     "output_type": "execute_result"
    }
   ],
   "source": [
    "fun_femme['intel'].mean()"
   ]
  },
  {
   "cell_type": "markdown",
   "id": "a2d11e8b",
   "metadata": {},
   "source": [
    "# En comparaison, on peut voir que l'on a trois fois plus de chances d'être choisi si l'on a les mêmes centres d'intérêt."
   ]
  },
  {
   "cell_type": "code",
   "execution_count": 41,
   "id": "86518357",
   "metadata": {},
   "outputs": [],
   "source": [
    "#shar = centre d'interet "
   ]
  },
  {
   "cell_type": "code",
   "execution_count": 42,
   "id": "464d6f91",
   "metadata": {},
   "outputs": [],
   "source": [
    "df_pas_int = df[df['shar'] < 5 ]\n",
    "df_int = df[df['shar'] > 5 ]"
   ]
  },
  {
   "cell_type": "code",
   "execution_count": 43,
   "id": "20264b42",
   "metadata": {},
   "outputs": [
    {
     "data": {
      "text/plain": [
       "0.17270194986072424"
      ]
     },
     "execution_count": 43,
     "metadata": {},
     "output_type": "execute_result"
    }
   ],
   "source": [
    "df_pas_int['dec'].mean()"
   ]
  },
  {
   "cell_type": "code",
   "execution_count": 44,
   "id": "e51721d6",
   "metadata": {},
   "outputs": [
    {
     "data": {
      "text/plain": [
       "0.6018418201516793"
      ]
     },
     "execution_count": 44,
     "metadata": {},
     "output_type": "execute_result"
    }
   ],
   "source": [
    "df_int['dec'].mean()"
   ]
  },
  {
   "cell_type": "code",
   "execution_count": 45,
   "id": "5be3a970",
   "metadata": {},
   "outputs": [
    {
     "data": {
      "text/plain": [
       "3.484858281200853"
      ]
     },
     "execution_count": 45,
     "metadata": {},
     "output_type": "execute_result"
    }
   ],
   "source": [
    "0.6018418201516793 /0.17270194986072424"
   ]
  },
  {
   "cell_type": "markdown",
   "id": "c7199c11",
   "metadata": {},
   "source": [
    "# ici on voit que l'inteligence n'est pas ce qui est mis en avant du moin pas uniquement au dessus on a la categorie like est inteligence "
   ]
  },
  {
   "cell_type": "markdown",
   "id": "094eb65c",
   "metadata": {},
   "source": [
    "# pour les hommes comme pour les femmes apres l'attractivite le fun joue beacoup sur une demande de deuxieme rencontre ensuite le centre d'interet ou fun "
   ]
  },
  {
   "cell_type": "markdown",
   "id": "7a9fc433",
   "metadata": {},
   "source": [
    "# Q2\n",
    "# Quelle est l’importance de l’attractivité dans la sélection d’un partenaire potentiel par rapport à son impact réel ?"
   ]
  },
  {
   "cell_type": "markdown",
   "id": "04b4ba37",
   "metadata": {},
   "source": [
    "J'ai comparé les réponses à cette question dans le dataset le soir même, le lendemain, et trois-quatre semaines après. La même question a été posée, à savoir : 'Maintenant, repensez à vos décisions oui/non pendant la nuit de l’événement Speed Dating. Essayez de répartir les 100 points entre ces six attributs de la manière qui reflète le mieux l'importance réelle de ces attributs dans vos décisions. Donnez plus de points aux attributs qui étaient les plus importants dans vos décisions, et moins de points aux attributs qui étaient moins importants dans vos décisions. Le total des points doit être égal à 100.\n",
    "\n",
    "\n",
    "\n",
    "\n"
   ]
  },
  {
   "cell_type": "code",
   "execution_count": 46,
   "id": "83366cc7",
   "metadata": {
    "scrolled": true
   },
   "outputs": [
    {
     "data": {
      "text/plain": [
       "1.391555380748348"
      ]
     },
     "execution_count": 46,
     "metadata": {},
     "output_type": "execute_result"
    }
   ],
   "source": [
    "#attr1_1 = le soir du date\n",
    "#attr7_3' = 3/4 semane apres le date\n",
    "df['attr7_3'].mean() / df['attr1_1'].mean()"
   ]
  },
  {
   "cell_type": "markdown",
   "id": "2d50a4a4",
   "metadata": {},
   "source": [
    "# Différence homme/femme sur l'importance réelle de l'attractivité"
   ]
  },
  {
   "cell_type": "code",
   "execution_count": 47,
   "id": "4c444146",
   "metadata": {},
   "outputs": [],
   "source": [
    "homme_oui = df[(df['gender'] == 1) & (df['dec']  == 1)]"
   ]
  },
  {
   "cell_type": "code",
   "execution_count": 48,
   "id": "279b8359",
   "metadata": {},
   "outputs": [],
   "source": [
    "homme_oui = df[(df['gender'] == 1) & (df['dec']  == 1)]\n",
    "homme_non = df[(df['gender'] == 1) & (df['dec']  == 0)]\n",
    "femme_oui = df[(df['gender'] == 0) & (df['dec']  == 1)]\n",
    "femme_non = df[(df['gender'] == 0) & (df['dec']  == 0)]"
   ]
  },
  {
   "cell_type": "code",
   "execution_count": 49,
   "id": "7e0af5ac",
   "metadata": {},
   "outputs": [
    {
     "data": {
      "text/plain": [
       "1.3083299038648035"
      ]
     },
     "execution_count": 49,
     "metadata": {},
     "output_type": "execute_result"
    }
   ],
   "source": [
    "homme_oui['attr7_3'].mean() / homme_oui['attr1_1'].mean()"
   ]
  },
  {
   "cell_type": "code",
   "execution_count": 50,
   "id": "bb5fc71a",
   "metadata": {},
   "outputs": [
    {
     "data": {
      "text/plain": [
       "1.381554966189676"
      ]
     },
     "execution_count": 50,
     "metadata": {},
     "output_type": "execute_result"
    }
   ],
   "source": [
    "homme_non['attr7_3'].mean() / homme_non['attr1_1'].mean()"
   ]
  },
  {
   "cell_type": "code",
   "execution_count": 51,
   "id": "1bba9268",
   "metadata": {},
   "outputs": [
    {
     "data": {
      "text/plain": [
       "1.5060673962213251"
      ]
     },
     "execution_count": 51,
     "metadata": {},
     "output_type": "execute_result"
    }
   ],
   "source": [
    "femme_oui['attr7_3'].mean() / femme_oui['attr1_1'].mean()"
   ]
  },
  {
   "cell_type": "code",
   "execution_count": 52,
   "id": "47f958c1",
   "metadata": {},
   "outputs": [
    {
     "data": {
      "text/plain": [
       "1.5068855907428642"
      ]
     },
     "execution_count": 52,
     "metadata": {},
     "output_type": "execute_result"
    }
   ],
   "source": [
    "femme_non['attr7_3'].mean() / femme_non['attr1_1'].mean()"
   ]
  },
  {
   "cell_type": "code",
   "execution_count": 53,
   "id": "a0953da8",
   "metadata": {},
   "outputs": [
    {
     "data": {
      "text/plain": [
       "1529"
      ]
     },
     "execution_count": 53,
     "metadata": {},
     "output_type": "execute_result"
    }
   ],
   "source": [
    "len(femme_oui)"
   ]
  },
  {
   "cell_type": "code",
   "execution_count": 54,
   "id": "438b13c5",
   "metadata": {},
   "outputs": [
    {
     "data": {
      "text/plain": [
       "2655"
      ]
     },
     "execution_count": 54,
     "metadata": {},
     "output_type": "execute_result"
    }
   ],
   "source": [
    "len(femme_non)"
   ]
  },
  {
   "cell_type": "code",
   "execution_count": 55,
   "id": "27622232",
   "metadata": {},
   "outputs": [
    {
     "data": {
      "text/plain": [
       "1989"
      ]
     },
     "execution_count": 55,
     "metadata": {},
     "output_type": "execute_result"
    }
   ],
   "source": [
    "len(homme_oui)"
   ]
  },
  {
   "cell_type": "code",
   "execution_count": 56,
   "id": "6628edbf",
   "metadata": {},
   "outputs": [
    {
     "data": {
      "text/plain": [
       "2205"
      ]
     },
     "execution_count": 56,
     "metadata": {},
     "output_type": "execute_result"
    }
   ],
   "source": [
    "len(homme_non)"
   ]
  },
  {
   "cell_type": "markdown",
   "id": "4319d760",
   "metadata": {},
   "source": [
    "La différence entre les hommes est plus faible que la différence entre les femmes, qui est très grande entre le soir même et trois semaines après. La note d'attractivité augmente le lendemain et trois semaines après, un peu chez les hommes et de façon importante chez les femmes."
   ]
  },
  {
   "cell_type": "code",
   "execution_count": 57,
   "id": "9c741390",
   "metadata": {},
   "outputs": [],
   "source": [
    "attractivites = df[['attr7_2', \"attr7_3\",\"attr1_1\"]]"
   ]
  },
  {
   "cell_type": "code",
   "execution_count": 58,
   "id": "0adb5f6a",
   "metadata": {
    "scrolled": true
   },
   "outputs": [
    {
     "name": "stderr",
     "output_type": "stream",
     "text": [
      "No artists with labels found to put in legend.  Note that artists whose label start with an underscore are ignored when legend() is called with no argument.\n"
     ]
    },
    {
     "data": {
      "text/plain": [
       "<matplotlib.legend.Legend at 0x1a1f39ee4a0>"
      ]
     },
     "execution_count": 58,
     "metadata": {},
     "output_type": "execute_result"
    },
    {
     "data": {
      "image/png": "[encoded data removed]",
      "text/plain": [
       "<Figure size 640x480 with 1 Axes>"
      ]
     },
     "metadata": {},
     "output_type": "display_data"
    }
   ],
   "source": [
    "attract_total = sns.barplot(attractivites)\n",
    "attract_total .bar_label(attract_total .containers[0], fmt='%.2f');\n",
    "plt.legend(title='attr1_1: avis attractivité le jour meme, attr7_2 : j+1, attr7_3 :semaine + 3', loc=2, bbox_to_anchor=(1, 1))"
   ]
  },
  {
   "cell_type": "markdown",
   "id": "1e168db0",
   "metadata": {},
   "source": []
  },
  {
   "cell_type": "markdown",
   "id": "3cd64880",
   "metadata": {},
   "source": [
    "# Les intérêts partagés sont-ils plus importants qu’une origine raciale partagée ?"
   ]
  },
  {
   "cell_type": "markdown",
   "id": "b80df8ab",
   "metadata": {},
   "source": [
    "# imprace = importance accordée au fait d'être de la même race note sur 10 (0 pas important 10 tres important\n",
    "# samerace = même race 0 = non,  1 = oui\n",
    "# int_corr = corrélation des intérêts \n",
    "# dec = décision\n"
   ]
  },
  {
   "cell_type": "code",
   "execution_count": 59,
   "id": "a4096ff0",
   "metadata": {},
   "outputs": [],
   "source": [
    "a = df[[\"imprace\",\"shar\",\"samerace\", \"int_corr\", 'dec']]"
   ]
  },
  {
   "cell_type": "code",
   "execution_count": 60,
   "id": "58341039",
   "metadata": {},
   "outputs": [],
   "source": [
    "important = a[a[\"imprace\"] > 5]\n",
    "non_important = a[a[\"imprace\"] < 5]"
   ]
  },
  {
   "cell_type": "code",
   "execution_count": 61,
   "id": "bb00fc32",
   "metadata": {
    "scrolled": true
   },
   "outputs": [
    {
     "data": {
      "text/plain": [
       "5253"
      ]
     },
     "execution_count": 61,
     "metadata": {},
     "output_type": "execute_result"
    }
   ],
   "source": [
    "len(non_important )"
   ]
  },
  {
   "cell_type": "code",
   "execution_count": 62,
   "id": "c7a748a2",
   "metadata": {},
   "outputs": [
    {
     "data": {
      "text/plain": [
       "<Axes: xlabel='imprace', ylabel='int_corr'>"
      ]
     },
     "execution_count": 62,
     "metadata": {},
     "output_type": "execute_result"
    },
    {
     "data": {
      "image/png": "[encoded data removed]",
      "text/plain": [
       "<Figure size 640x480 with 1 Axes>"
      ]
     },
     "metadata": {},
     "output_type": "display_data"
    }
   ],
   "source": [
    "sns.lineplot(data=important, x=\"imprace\", y=\"int_corr\", hue='dec' )"
   ]
  },
  {
   "cell_type": "code",
   "execution_count": 63,
   "id": "64811181",
   "metadata": {
    "scrolled": true
   },
   "outputs": [
    {
     "data": {
      "text/plain": [
       "<Axes: xlabel='imprace', ylabel='int_corr'>"
      ]
     },
     "execution_count": 63,
     "metadata": {},
     "output_type": "execute_result"
    },
    {
     "data": {
      "image/png": "[encoded data removed]",
      "text/plain": [
       "<Figure size 640x480 with 1 Axes>"
      ]
     },
     "metadata": {},
     "output_type": "display_data"
    }
   ],
   "source": [
    "sns.lineplot(data=non_important, x=\"imprace\", y=\"int_corr\", hue='dec' )"
   ]
  },
  {
   "cell_type": "code",
   "execution_count": 64,
   "id": "1338d8c0",
   "metadata": {},
   "outputs": [],
   "source": [
    "important = a[a[\"imprace\"] > 5]\n",
    "non_important = a[a[\"imprace\"] < 5]"
   ]
  },
  {
   "cell_type": "code",
   "execution_count": 65,
   "id": "86cd2b9b",
   "metadata": {},
   "outputs": [],
   "source": [
    "oui_imp = important[important['dec'] == 1]\n",
    "non_imp =  important[important['dec'] == 0]"
   ]
  },
  {
   "cell_type": "code",
   "execution_count": 66,
   "id": "b91e63bb",
   "metadata": {},
   "outputs": [
    {
     "data": {
      "text/plain": [
       "464"
      ]
     },
     "execution_count": 66,
     "metadata": {},
     "output_type": "execute_result"
    }
   ],
   "source": [
    "len(oui_imp[oui_imp['samerace'] == 1])"
   ]
  },
  {
   "cell_type": "code",
   "execution_count": 67,
   "id": "a1395685",
   "metadata": {
    "scrolled": true
   },
   "outputs": [
    {
     "data": {
      "text/plain": [
       "407"
      ]
     },
     "execution_count": 67,
     "metadata": {},
     "output_type": "execute_result"
    }
   ],
   "source": [
    "len(oui_imp[oui_imp['samerace'] == 0])"
   ]
  },
  {
   "cell_type": "code",
   "execution_count": 68,
   "id": "71b8a5a3",
   "metadata": {},
   "outputs": [
    {
     "data": {
      "text/plain": [
       "46.72789896670494"
      ]
     },
     "execution_count": 68,
     "metadata": {},
     "output_type": "execute_result"
    }
   ],
   "source": [
    "(407/871)*100\n"
   ]
  },
  {
   "cell_type": "code",
   "execution_count": 69,
   "id": "263bdc4f",
   "metadata": {},
   "outputs": [
    {
     "data": {
      "text/plain": [
       "610"
      ]
     },
     "execution_count": 69,
     "metadata": {},
     "output_type": "execute_result"
    }
   ],
   "source": [
    "len(non_imp[non_imp['samerace'] == 1])"
   ]
  },
  {
   "cell_type": "code",
   "execution_count": 70,
   "id": "5652b62c",
   "metadata": {
    "scrolled": true
   },
   "outputs": [
    {
     "data": {
      "text/plain": [
       "908"
      ]
     },
     "execution_count": 70,
     "metadata": {},
     "output_type": "execute_result"
    }
   ],
   "source": [
    "len(non_imp[non_imp['samerace'] == 0])"
   ]
  },
  {
   "cell_type": "code",
   "execution_count": 71,
   "id": "ba442888",
   "metadata": {},
   "outputs": [
    {
     "data": {
      "text/plain": [
       "59.81554677206851"
      ]
     },
     "execution_count": 71,
     "metadata": {},
     "output_type": "execute_result"
    }
   ],
   "source": [
    "(908/1518)*100"
   ]
  },
  {
   "cell_type": "markdown",
   "id": "a1539c54",
   "metadata": {},
   "source": [
    "# Séparation entre \"oui, la race importe\" et \"non, la race importe peu\", basée sur des notes supérieures à 5, donc relativement importantes, jusqu'à 10, donc très importantes, ainsi qu'observation des décisions pour déterminer si un deuxième rendez-vous a été pris. Le tout comparé à la corrélation des intérêts."
   ]
  },
  {
   "cell_type": "code",
   "execution_count": 72,
   "id": "8603581e",
   "metadata": {},
   "outputs": [
    {
     "data": {
      "text/plain": [
       "<Axes: xlabel='imprace', ylabel='int_corr'>"
      ]
     },
     "execution_count": 72,
     "metadata": {},
     "output_type": "execute_result"
    },
    {
     "data": {
      "image/png": "[encoded data removed]",
      "text/plain": [
       "<Figure size 640x480 with 1 Axes>"
      ]
     },
     "metadata": {},
     "output_type": "display_data"
    }
   ],
   "source": [
    "sns.lineplot(data=oui_imp, x=\"imprace\", y=\"int_corr\", hue='samerace' )"
   ]
  },
  {
   "cell_type": "code",
   "execution_count": 73,
   "id": "3c321a19",
   "metadata": {},
   "outputs": [
    {
     "data": {
      "text/plain": [
       "<Axes: xlabel='imprace', ylabel='int_corr'>"
      ]
     },
     "execution_count": 73,
     "metadata": {},
     "output_type": "execute_result"
    },
    {
     "data": {
      "image/png": "[encoded data removed]",
      "text/plain": [
       "<Figure size 640x480 with 1 Axes>"
      ]
     },
     "metadata": {},
     "output_type": "display_data"
    }
   ],
   "source": [
    "sns.lineplot(data=non_imp, x=\"imprace\", y=\"int_corr\", hue='samerace' )"
   ]
  },
  {
   "cell_type": "markdown",
   "id": "5b70276e",
   "metadata": {},
   "source": [
    "# On voit ici que l'intérêt partagé est très important, puisque parmi ceux à qui on a demandé de noter l'importance de la race de leur partenaire potentiel, on remarque que parmi ceux qui ont demandé une deuxième rencontre, 46 % ne sont pas de la même race, tandis que pour ceux à qui on a dit non, c'est 59 %. En observant la corrélation des intérêts partagés (int_corr) entre les deux, on constate que ceux dont la corrélation des intérêts était aux alentours de 20 % avaient plus de chances de réussite, même s'ils ne sont pas de la même race. En revanche, ceux dont la corrélation des intérêts est inférieure à 15 % ont 59 % de refus. Il s'agit ici d'une observation dans la catégorie de ceux qui ont attribué une note supérieure à 5 sur 10 pour l'importance de la race."
   ]
  },
  {
   "cell_type": "markdown",
   "id": "5c19b378",
   "metadata": {},
   "source": [
    "# Les gens peuvent-ils prédire avec précision leur propre valeur perçue sur le marché des rencontres ?"
   ]
  },
  {
   "cell_type": "code",
   "execution_count": 74,
   "id": "8262b85a",
   "metadata": {
    "scrolled": true
   },
   "outputs": [
    {
     "data": {
      "text/plain": [
       "['iid',\n",
       " 'id',\n",
       " 'gender',\n",
       " 'idg',\n",
       " 'condtn',\n",
       " 'wave',\n",
       " 'round',\n",
       " 'position',\n",
       " 'positin1',\n",
       " 'order',\n",
       " 'partner',\n",
       " 'pid',\n",
       " 'match',\n",
       " 'int_corr',\n",
       " 'samerace',\n",
       " 'age_o',\n",
       " 'race_o',\n",
       " 'pf_o_att',\n",
       " 'pf_o_sin',\n",
       " 'pf_o_int',\n",
       " 'pf_o_fun',\n",
       " 'pf_o_amb',\n",
       " 'pf_o_sha',\n",
       " 'dec_o',\n",
       " 'attr_o',\n",
       " 'sinc_o',\n",
       " 'intel_o',\n",
       " 'fun_o',\n",
       " 'amb_o',\n",
       " 'shar_o',\n",
       " 'like_o',\n",
       " 'prob_o',\n",
       " 'met_o',\n",
       " 'age',\n",
       " 'field',\n",
       " 'field_cd',\n",
       " 'undergra',\n",
       " 'mn_sat',\n",
       " 'tuition',\n",
       " 'race',\n",
       " 'imprace',\n",
       " 'imprelig',\n",
       " 'from',\n",
       " 'zipcode',\n",
       " 'income',\n",
       " 'goal',\n",
       " 'date',\n",
       " 'go_out',\n",
       " 'career',\n",
       " 'career_c',\n",
       " 'sports',\n",
       " 'tvsports',\n",
       " 'exercise',\n",
       " 'dining',\n",
       " 'museums',\n",
       " 'art',\n",
       " 'hiking',\n",
       " 'gaming',\n",
       " 'clubbing',\n",
       " 'reading',\n",
       " 'tv',\n",
       " 'theater',\n",
       " 'movies',\n",
       " 'concerts',\n",
       " 'music',\n",
       " 'shopping',\n",
       " 'yoga',\n",
       " 'exphappy',\n",
       " 'expnum',\n",
       " 'attr1_1',\n",
       " 'sinc1_1',\n",
       " 'intel1_1',\n",
       " 'fun1_1',\n",
       " 'amb1_1',\n",
       " 'shar1_1',\n",
       " 'attr4_1',\n",
       " 'sinc4_1',\n",
       " 'intel4_1',\n",
       " 'fun4_1',\n",
       " 'amb4_1',\n",
       " 'shar4_1',\n",
       " 'attr2_1',\n",
       " 'sinc2_1',\n",
       " 'intel2_1',\n",
       " 'fun2_1',\n",
       " 'amb2_1',\n",
       " 'shar2_1',\n",
       " 'attr3_1',\n",
       " 'sinc3_1',\n",
       " 'fun3_1',\n",
       " 'intel3_1',\n",
       " 'amb3_1',\n",
       " 'attr5_1',\n",
       " 'sinc5_1',\n",
       " 'intel5_1',\n",
       " 'fun5_1',\n",
       " 'amb5_1',\n",
       " 'dec',\n",
       " 'attr',\n",
       " 'sinc',\n",
       " 'intel',\n",
       " 'fun',\n",
       " 'amb',\n",
       " 'shar',\n",
       " 'like',\n",
       " 'prob',\n",
       " 'met',\n",
       " 'match_es',\n",
       " 'attr1_s',\n",
       " 'sinc1_s',\n",
       " 'intel1_s',\n",
       " 'fun1_s',\n",
       " 'amb1_s',\n",
       " 'shar1_s',\n",
       " 'attr3_s',\n",
       " 'sinc3_s',\n",
       " 'intel3_s',\n",
       " 'fun3_s',\n",
       " 'amb3_s',\n",
       " 'satis_2',\n",
       " 'length',\n",
       " 'numdat_2',\n",
       " 'attr7_2',\n",
       " 'sinc7_2',\n",
       " 'intel7_2',\n",
       " 'fun7_2',\n",
       " 'amb7_2',\n",
       " 'shar7_2',\n",
       " 'attr1_2',\n",
       " 'sinc1_2',\n",
       " 'intel1_2',\n",
       " 'fun1_2',\n",
       " 'amb1_2',\n",
       " 'shar1_2',\n",
       " 'attr4_2',\n",
       " 'sinc4_2',\n",
       " 'intel4_2',\n",
       " 'fun4_2',\n",
       " 'amb4_2',\n",
       " 'shar4_2',\n",
       " 'attr2_2',\n",
       " 'sinc2_2',\n",
       " 'intel2_2',\n",
       " 'fun2_2',\n",
       " 'amb2_2',\n",
       " 'shar2_2',\n",
       " 'attr3_2',\n",
       " 'sinc3_2',\n",
       " 'intel3_2',\n",
       " 'fun3_2',\n",
       " 'amb3_2',\n",
       " 'attr5_2',\n",
       " 'sinc5_2',\n",
       " 'intel5_2',\n",
       " 'fun5_2',\n",
       " 'amb5_2',\n",
       " 'you_call',\n",
       " 'them_cal',\n",
       " 'date_3',\n",
       " 'numdat_3',\n",
       " 'num_in_3',\n",
       " 'attr1_3',\n",
       " 'sinc1_3',\n",
       " 'intel1_3',\n",
       " 'fun1_3',\n",
       " 'amb1_3',\n",
       " 'shar1_3',\n",
       " 'attr7_3',\n",
       " 'sinc7_3',\n",
       " 'intel7_3',\n",
       " 'fun7_3',\n",
       " 'amb7_3',\n",
       " 'shar7_3',\n",
       " 'attr4_3',\n",
       " 'sinc4_3',\n",
       " 'intel4_3',\n",
       " 'fun4_3',\n",
       " 'amb4_3',\n",
       " 'shar4_3',\n",
       " 'attr2_3',\n",
       " 'sinc2_3',\n",
       " 'intel2_3',\n",
       " 'fun2_3',\n",
       " 'amb2_3',\n",
       " 'shar2_3',\n",
       " 'attr3_3',\n",
       " 'sinc3_3',\n",
       " 'intel3_3',\n",
       " 'fun3_3',\n",
       " 'amb3_3',\n",
       " 'attr5_3',\n",
       " 'sinc5_3',\n",
       " 'intel5_3',\n",
       " 'fun5_3',\n",
       " 'amb5_3']"
      ]
     },
     "execution_count": 74,
     "metadata": {},
     "output_type": "execute_result"
    }
   ],
   "source": [
    "nom_des_colonnes"
   ]
  },
  {
   "cell_type": "markdown",
   "id": "45a26a69",
   "metadata": {},
   "source": [
    "Questionnaire\n",
    "Et enfin, comment pensez-vous que les autres vous perçoivent ?\n",
    "Veuillez évaluer la façon dont vous pensez que les autres vous évalueraient pour chacun des attributs suivants, sur une échelle de 1 à 10 (1 = horrible, 10 = excellent) "
   ]
  },
  {
   "cell_type": "code",
   "execution_count": 75,
   "id": "7120756f",
   "metadata": {
    "scrolled": true
   },
   "outputs": [],
   "source": [
    "evaluation_personelle  = df[['attr5_1','sinc5_1','intel5_1','fun5_1','amb5_1',]]\n"
   ]
  },
  {
   "cell_type": "markdown",
   "id": "0f9c6153",
   "metadata": {},
   "source": [
    "Questionnaire tinder :\n",
    "Et enfin, comment pensez-vous que les autres vous perçoivent ?\n",
    "Veuillez évaluer la façon dont vous pensez que les autres vous évalueraient pour chacun des attributs suivants, sur une échelle de 1 à 10 (1 = horrible, 10 = excellent)\n"
   ]
  },
  {
   "cell_type": "code",
   "execution_count": 76,
   "id": "5d7f7751",
   "metadata": {},
   "outputs": [],
   "source": [
    "evaluation_personelle_2  = df[['attr5_2','sinc5_2','intel5_2','fun5_2','amb5_2',]]"
   ]
  },
  {
   "cell_type": "code",
   "execution_count": 77,
   "id": "8d376ee3",
   "metadata": {},
   "outputs": [],
   "source": [
    "#sns.barplot(evaluation_personelle_2)"
   ]
  },
  {
   "cell_type": "markdown",
   "id": "f251e2ff",
   "metadata": {},
   "source": [
    "Questionnaire tinder\n",
    "Comment pensez-vous vous mesurer ?\n",
    "Veuillez évaluer votre opinion sur vos propres qualités, sur une échelle de 1 à 10 (1 = horrible et 10 = génial). Être honnête!"
   ]
  },
  {
   "cell_type": "code",
   "execution_count": 78,
   "id": "572e7d44",
   "metadata": {},
   "outputs": [],
   "source": [
    "a = df[['attr3_2','sinc3_2','intel3_2','fun3_2','amb3_2']]"
   ]
  },
  {
   "cell_type": "code",
   "execution_count": 79,
   "id": "2b573ef0",
   "metadata": {},
   "outputs": [],
   "source": [
    "#sns.barplot(a) # reponse a la question Veuillez évaluer votre opinion sur vos propres qualités, \n",
    "#sur une échelle de 1 à 10 (1 = horrible, 10 = génial) --Soyez honnête !"
   ]
  },
  {
   "cell_type": "code",
   "execution_count": 80,
   "id": "725d1ec3",
   "metadata": {},
   "outputs": [],
   "source": [
    "#z = df[['attr1_2','sinc1_2','intel1_2','fun1_2','amb1_2','shar1_2']]"
   ]
  },
  {
   "cell_type": "code",
   "execution_count": 81,
   "id": "6cfd69dc",
   "metadata": {},
   "outputs": [],
   "source": [
    "#p = df[['attr2_3','sinc2_3','intel2_3','fun2_3','amb2_3','shar2_3',]]\n",
    "#ns.barplot(p)"
   ]
  },
  {
   "cell_type": "code",
   "execution_count": 82,
   "id": "486a721a",
   "metadata": {},
   "outputs": [],
   "source": [
    "#n = df[['attr3_3','sinc3_3','intel3_3','fun3_3','amb3_3',]]\n",
    "#sns.barplot(n)"
   ]
  },
  {
   "cell_type": "markdown",
   "id": "69853d7d",
   "metadata": {},
   "source": [
    "# attr = attractivité, sinc = sincérité, intel = intelligence, fun = amusant, amb = ambitieux"
   ]
  },
  {
   "cell_type": "code",
   "execution_count": 83,
   "id": "5f6a1d37",
   "metadata": {},
   "outputs": [
    {
     "data": {
      "text/plain": [
       "<Axes: >"
      ]
     },
     "execution_count": 83,
     "metadata": {},
     "output_type": "execute_result"
    },
    {
     "data": {
      "image/png": "[encoded data removed]",
      "text/plain": [
       "<Figure size 640x480 with 1 Axes>"
      ]
     },
     "metadata": {},
     "output_type": "display_data"
    }
   ],
   "source": [
    "evaluation_personelle_3 = df[['attr5_3','sinc5_3','intel5_3','fun5_3','amb5_3']]\n",
    "sns.barplot(evaluation_personelle_3)"
   ]
  },
  {
   "cell_type": "code",
   "execution_count": 85,
   "id": "e123203e",
   "metadata": {},
   "outputs": [],
   "source": [
    "scorecard_3 = df[['attr', 'sinc', 'intel', 'fun' ,'amb']]"
   ]
  },
  {
   "cell_type": "code",
   "execution_count": 86,
   "id": "28df0d22",
   "metadata": {},
   "outputs": [
    {
     "data": {
      "text/html": [
       "<div>\n",
       "<style scoped>\n",
       "    .dataframe tbody tr th:only-of-type {\n",
       "        vertical-align: middle;\n",
       "    }\n",
       "\n",
       "    .dataframe tbody tr th {\n",
       "        vertical-align: top;\n",
       "    }\n",
       "\n",
       "    .dataframe thead th {\n",
       "        text-align: right;\n",
       "    }\n",
       "</style>\n",
       "<table border=\"1\" class=\"dataframe\">\n",
       "  <thead>\n",
       "    <tr style=\"text-align: right;\">\n",
       "      <th></th>\n",
       "      <th>attr</th>\n",
       "      <th>sinc</th>\n",
       "      <th>intel</th>\n",
       "      <th>fun</th>\n",
       "      <th>amb</th>\n",
       "      <th>attr5_3</th>\n",
       "      <th>sinc5_3</th>\n",
       "      <th>intel5_3</th>\n",
       "      <th>fun5_3</th>\n",
       "      <th>amb5_3</th>\n",
       "    </tr>\n",
       "  </thead>\n",
       "  <tbody>\n",
       "    <tr>\n",
       "      <th>0</th>\n",
       "      <td>6.0</td>\n",
       "      <td>9.0</td>\n",
       "      <td>7.0</td>\n",
       "      <td>7.0</td>\n",
       "      <td>6.0</td>\n",
       "      <td>NaN</td>\n",
       "      <td>NaN</td>\n",
       "      <td>NaN</td>\n",
       "      <td>NaN</td>\n",
       "      <td>NaN</td>\n",
       "    </tr>\n",
       "    <tr>\n",
       "      <th>1</th>\n",
       "      <td>7.0</td>\n",
       "      <td>8.0</td>\n",
       "      <td>7.0</td>\n",
       "      <td>8.0</td>\n",
       "      <td>5.0</td>\n",
       "      <td>NaN</td>\n",
       "      <td>NaN</td>\n",
       "      <td>NaN</td>\n",
       "      <td>NaN</td>\n",
       "      <td>NaN</td>\n",
       "    </tr>\n",
       "    <tr>\n",
       "      <th>2</th>\n",
       "      <td>5.0</td>\n",
       "      <td>8.0</td>\n",
       "      <td>9.0</td>\n",
       "      <td>8.0</td>\n",
       "      <td>5.0</td>\n",
       "      <td>NaN</td>\n",
       "      <td>NaN</td>\n",
       "      <td>NaN</td>\n",
       "      <td>NaN</td>\n",
       "      <td>NaN</td>\n",
       "    </tr>\n",
       "    <tr>\n",
       "      <th>3</th>\n",
       "      <td>7.0</td>\n",
       "      <td>6.0</td>\n",
       "      <td>8.0</td>\n",
       "      <td>7.0</td>\n",
       "      <td>6.0</td>\n",
       "      <td>NaN</td>\n",
       "      <td>NaN</td>\n",
       "      <td>NaN</td>\n",
       "      <td>NaN</td>\n",
       "      <td>NaN</td>\n",
       "    </tr>\n",
       "    <tr>\n",
       "      <th>4</th>\n",
       "      <td>5.0</td>\n",
       "      <td>6.0</td>\n",
       "      <td>7.0</td>\n",
       "      <td>7.0</td>\n",
       "      <td>6.0</td>\n",
       "      <td>NaN</td>\n",
       "      <td>NaN</td>\n",
       "      <td>NaN</td>\n",
       "      <td>NaN</td>\n",
       "      <td>NaN</td>\n",
       "    </tr>\n",
       "    <tr>\n",
       "      <th>...</th>\n",
       "      <td>...</td>\n",
       "      <td>...</td>\n",
       "      <td>...</td>\n",
       "      <td>...</td>\n",
       "      <td>...</td>\n",
       "      <td>...</td>\n",
       "      <td>...</td>\n",
       "      <td>...</td>\n",
       "      <td>...</td>\n",
       "      <td>...</td>\n",
       "    </tr>\n",
       "    <tr>\n",
       "      <th>8373</th>\n",
       "      <td>3.0</td>\n",
       "      <td>5.0</td>\n",
       "      <td>5.0</td>\n",
       "      <td>5.0</td>\n",
       "      <td>NaN</td>\n",
       "      <td>9.0</td>\n",
       "      <td>5.0</td>\n",
       "      <td>9.0</td>\n",
       "      <td>5.0</td>\n",
       "      <td>6.0</td>\n",
       "    </tr>\n",
       "    <tr>\n",
       "      <th>8374</th>\n",
       "      <td>4.0</td>\n",
       "      <td>6.0</td>\n",
       "      <td>8.0</td>\n",
       "      <td>4.0</td>\n",
       "      <td>4.0</td>\n",
       "      <td>9.0</td>\n",
       "      <td>5.0</td>\n",
       "      <td>9.0</td>\n",
       "      <td>5.0</td>\n",
       "      <td>6.0</td>\n",
       "    </tr>\n",
       "    <tr>\n",
       "      <th>8375</th>\n",
       "      <td>4.0</td>\n",
       "      <td>7.0</td>\n",
       "      <td>8.0</td>\n",
       "      <td>8.0</td>\n",
       "      <td>8.0</td>\n",
       "      <td>9.0</td>\n",
       "      <td>5.0</td>\n",
       "      <td>9.0</td>\n",
       "      <td>5.0</td>\n",
       "      <td>6.0</td>\n",
       "    </tr>\n",
       "    <tr>\n",
       "      <th>8376</th>\n",
       "      <td>4.0</td>\n",
       "      <td>6.0</td>\n",
       "      <td>5.0</td>\n",
       "      <td>4.0</td>\n",
       "      <td>NaN</td>\n",
       "      <td>9.0</td>\n",
       "      <td>5.0</td>\n",
       "      <td>9.0</td>\n",
       "      <td>5.0</td>\n",
       "      <td>6.0</td>\n",
       "    </tr>\n",
       "    <tr>\n",
       "      <th>8377</th>\n",
       "      <td>3.0</td>\n",
       "      <td>7.0</td>\n",
       "      <td>6.0</td>\n",
       "      <td>4.0</td>\n",
       "      <td>8.0</td>\n",
       "      <td>9.0</td>\n",
       "      <td>5.0</td>\n",
       "      <td>9.0</td>\n",
       "      <td>5.0</td>\n",
       "      <td>6.0</td>\n",
       "    </tr>\n",
       "  </tbody>\n",
       "</table>\n",
       "<p>8378 rows × 10 columns</p>\n",
       "</div>"
      ],
      "text/plain": [
       "      attr  sinc  intel  fun  amb  attr5_3  sinc5_3  intel5_3  fun5_3  amb5_3\n",
       "0      6.0   9.0    7.0  7.0  6.0      NaN      NaN       NaN     NaN     NaN\n",
       "1      7.0   8.0    7.0  8.0  5.0      NaN      NaN       NaN     NaN     NaN\n",
       "2      5.0   8.0    9.0  8.0  5.0      NaN      NaN       NaN     NaN     NaN\n",
       "3      7.0   6.0    8.0  7.0  6.0      NaN      NaN       NaN     NaN     NaN\n",
       "4      5.0   6.0    7.0  7.0  6.0      NaN      NaN       NaN     NaN     NaN\n",
       "...    ...   ...    ...  ...  ...      ...      ...       ...     ...     ...\n",
       "8373   3.0   5.0    5.0  5.0  NaN      9.0      5.0       9.0     5.0     6.0\n",
       "8374   4.0   6.0    8.0  4.0  4.0      9.0      5.0       9.0     5.0     6.0\n",
       "8375   4.0   7.0    8.0  8.0  8.0      9.0      5.0       9.0     5.0     6.0\n",
       "8376   4.0   6.0    5.0  4.0  NaN      9.0      5.0       9.0     5.0     6.0\n",
       "8377   3.0   7.0    6.0  4.0  8.0      9.0      5.0       9.0     5.0     6.0\n",
       "\n",
       "[8378 rows x 10 columns]"
      ]
     },
     "execution_count": 86,
     "metadata": {},
     "output_type": "execute_result"
    }
   ],
   "source": [
    "u = pd.concat([scorecard_3, evaluation_personelle_3], axis=1, join='outer')\n",
    "u"
   ]
  },
  {
   "cell_type": "code",
   "execution_count": 87,
   "id": "85a566d0",
   "metadata": {},
   "outputs": [
    {
     "name": "stderr",
     "output_type": "stream",
     "text": [
      "No artists with labels found to put in legend.  Note that artists whose label start with an underscore are ignored when legend() is called with no argument.\n"
     ]
    },
    {
     "data": {
      "text/plain": [
       "<matplotlib.legend.Legend at 0x1a1f9f4d420>"
      ]
     },
     "execution_count": 87,
     "metadata": {},
     "output_type": "execute_result"
    },
    {
     "data": {
      "image/png": "[encoded data removed]",
      "text/plain": [
       "<Figure size 640x480 with 1 Axes>"
      ]
     },
     "metadata": {},
     "output_type": "display_data"
    }
   ],
   "source": [
    "import seaborn as sns\n",
    "comparaison = sns.barplot(u)\n",
    "comparaison.bar_label(comparaison.containers[0], fmt='%.2f');\n",
    "plt.legend(title='comparaison entre note personel est note scorecard ,note scorcard de  attr-amb,a partir de attr5 note personel' , loc=2, bbox_to_anchor=(1, 1))"
   ]
  },
  {
   "cell_type": "markdown",
   "id": "7c89e2ee",
   "metadata": {},
   "source": [
    "# On voit sur le tableau ci-dessus que les gens sont plus généreux avec eux-mêmes qu'avec les autres, bien que la différence ne soit pas énorme. L'écart entre 'attr - amb', qui correspond à la moyenne des notes données par le partenaire et la note individuelle, est la valeur que les gens se donnent ou leur estimation de leur valeur sur le marché des rencontres selon eux.\n"
   ]
  },
  {
   "cell_type": "code",
   "execution_count": null,
   "id": "6288a60a",
   "metadata": {},
   "outputs": [],
   "source": []
  },
  {
   "cell_type": "markdown",
   "id": "c657f8a2",
   "metadata": {},
   "source": [
    "# Pour ce qui est d'obtenir un deuxième rendez-vous, vaut-il mieux être le premier speed date de la soirée ou le dernier ?"
   ]
  },
  {
   "cell_type": "code",
   "execution_count": null,
   "id": "e7cc05e4",
   "metadata": {},
   "outputs": [],
   "source": [
    "nom_des_colonnes"
   ]
  },
  {
   "cell_type": "code",
   "execution_count": null,
   "id": "2a9b3921",
   "metadata": {},
   "outputs": [],
   "source": [
    "num_passage = df[['position','positin1','order','dec_o','attr_o','match','pf_o_att','attr_o',]]\n"
   ]
  },
  {
   "cell_type": "code",
   "execution_count": null,
   "id": "706b4ff4",
   "metadata": {},
   "outputs": [],
   "source": [
    "#comp = df[[ 'dec_o','attr_o','sinc_o','intel_o','fun_o','amb_o','shar_o','like_o','prob_o','met_o',]]\n",
    "#sns.barplot(comp)"
   ]
  },
  {
   "cell_type": "code",
   "execution_count": null,
   "id": "4fb94b45",
   "metadata": {},
   "outputs": [],
   "source": [
    "#df['order'].min()\n",
    "#df['order'].max()"
   ]
  },
  {
   "cell_type": "code",
   "execution_count": null,
   "id": "c55ca675",
   "metadata": {},
   "outputs": [],
   "source": [
    "passage_22 = df[df['order'] == 22]\n",
    "passage_1 = df[df['order'] == 1]"
   ]
  },
  {
   "cell_type": "code",
   "execution_count": null,
   "id": "86bc34bf",
   "metadata": {},
   "outputs": [],
   "source": [
    "sns.countplot(passage_22, x='match', hue='match')\n"
   ]
  },
  {
   "cell_type": "code",
   "execution_count": null,
   "id": "3da4ae6e",
   "metadata": {
    "scrolled": false
   },
   "outputs": [],
   "source": [
    "sns.countplot(passage_1, x='match', hue='match')"
   ]
  },
  {
   "cell_type": "code",
   "execution_count": null,
   "id": "d975d502",
   "metadata": {},
   "outputs": [],
   "source": [
    "# nombre de refus pour deuxieme rencontre \n",
    "len(match_1[match_1['match'] == 0])"
   ]
  },
  {
   "cell_type": "code",
   "execution_count": null,
   "id": "37323c77",
   "metadata": {
    "scrolled": true
   },
   "outputs": [],
   "source": [
    "# nombre de demande accepter pour deuxieme rencontre \n",
    "len(match_1[match_1['match'] == 1])"
   ]
  },
  {
   "cell_type": "code",
   "execution_count": null,
   "id": "51b100ff",
   "metadata": {},
   "outputs": [],
   "source": [
    "# nombre de refus pour deuxieme rencontre \n",
    "len(match_22[match_22['match'] == 0])"
   ]
  },
  {
   "cell_type": "code",
   "execution_count": null,
   "id": "7befd396",
   "metadata": {},
   "outputs": [],
   "source": [
    "# nombre de demande accepter pour deuxieme rencontre \n",
    "len(match_22[match_22['match'] == 1])"
   ]
  },
  {
   "cell_type": "code",
   "execution_count": null,
   "id": "b034eaa7",
   "metadata": {},
   "outputs": [],
   "source": [
    "#pourcentage de personne qui on reussi a avoire une deuxieme rencontre parmis les premiers\n",
    "(127/551)*100"
   ]
  },
  {
   "cell_type": "code",
   "execution_count": null,
   "id": "998af542",
   "metadata": {},
   "outputs": [],
   "source": [
    "#pourcentage de personne qui on reussi a avoire une deuxieme rencontre parmis les derniers\n",
    "(10/44)*100"
   ]
  },
  {
   "cell_type": "markdown",
   "id": "c5451840",
   "metadata": {},
   "source": [
    "# Les premiers à passer ont légèrement plus de chances de faire correspondre que les derniers, sans pour autant que l'écart soit énorme, avec moins de 1 % de différence. C'est 23,04 % pour les premiers et 22,72 % pour les derniers."
   ]
  },
  {
   "cell_type": "code",
   "execution_count": null,
   "id": "377c0019",
   "metadata": {},
   "outputs": [],
   "source": []
  },
  {
   "cell_type": "code",
   "execution_count": null,
   "id": "e4930d17",
   "metadata": {},
   "outputs": [],
   "source": [
    "match_333 = df[df['order'] == 1]"
   ]
  },
  {
   "cell_type": "code",
   "execution_count": null,
   "id": "f71a14ed",
   "metadata": {},
   "outputs": [],
   "source": [
    "len(match_333[match_333['match'] == 0])"
   ]
  },
  {
   "cell_type": "code",
   "execution_count": null,
   "id": "9bb7ea64",
   "metadata": {},
   "outputs": [],
   "source": []
  }
 ],
 "metadata": {
  "kernelspec": {
   "display_name": "Python 3 (ipykernel)",
   "language": "python",
   "name": "python3"
  },
  "language_info": {
   "codemirror_mode": {
    "name": "ipython",
    "version": 3
   },
   "file_extension": ".py",
   "mimetype": "text/x-python",
   "name": "python",
   "nbconvert_exporter": "python",
   "pygments_lexer": "ipython3",
   "version": "3.10.9"
  }
 },
 "nbformat": 4,
 "nbformat_minor": 5
}
